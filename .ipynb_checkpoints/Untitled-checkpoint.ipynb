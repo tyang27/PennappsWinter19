{
 "cells": [
  {
   "cell_type": "code",
   "execution_count": 14,
   "metadata": {},
   "outputs": [],
   "source": [
    "import pandas as pd\n",
    "import numpy as np\n",
    "\n",
    "patient_data = pd.read_csv(\"data/patient_data.csv\")"
   ]
  },
  {
   "cell_type": "code",
   "execution_count": 15,
   "metadata": {},
   "outputs": [],
   "source": [
    "days_of_week = [\"Monday\", \"Tuesday\", \"Wednesday\", \"Thursday\", \"Friday\"]\n",
    "\n",
    "def score_bound(x):\n",
    "    if x > 1:\n",
    "        return 1\n",
    "    elif x < 0:\n",
    "        return 0\n",
    "    else:\n",
    "        return x\n",
    "\n",
    "for i, row in patient_data.iterrows():\n",
    "    patient_data.at[i, \"Day of Week\"] = days_of_week[np.random.randint(0,4)]\n",
    "    patient_data.at[i, \"Days in Advance\"] = np.random.randint(1, 4)\n",
    "    \n",
    "    if patient_data.at[i, \"No Show\"] == 0:\n",
    "        score = np.random.normal(0.1, 0.2)\n",
    "        patient_data.at[i, \"Previous No-Show Coefficient\"] = score_bound(score)\n",
    "    else:\n",
    "        score = np.random.normal(0.2, 0.2)\n",
    "        patient_data.at[i, \"Previous No-Show Coefficient\"] = score_bound(score)\n"
   ]
  },
  {
   "cell_type": "code",
   "execution_count": 12,
   "metadata": {},
   "outputs": [],
   "source": [
    "patient_data.to_csv(\"data/patient_data_edit.csv\")"
   ]
  },
  {
   "cell_type": "code",
   "execution_count": null,
   "metadata": {},
   "outputs": [],
   "source": []
  }
 ],
 "metadata": {
  "kernelspec": {
   "display_name": "Python 2",
   "language": "python",
   "name": "python2"
  },
  "language_info": {
   "codemirror_mode": {
    "name": "ipython",
    "version": 2
   },
   "file_extension": ".py",
   "mimetype": "text/x-python",
   "name": "python",
   "nbconvert_exporter": "python",
   "pygments_lexer": "ipython2",
   "version": "2.7.15"
  }
 },
 "nbformat": 4,
 "nbformat_minor": 2
}
