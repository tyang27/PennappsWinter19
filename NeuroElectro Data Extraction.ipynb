{
 "cells": [
  {
   "cell_type": "code",
   "execution_count": 23,
   "metadata": {},
   "outputs": [],
   "source": [
    "import pandas as pd\n",
    "\n",
    "def load_neuro_data():\n",
    "    return pd.read_csv(\"data/neurophysiology_data.csv\")\n",
    "\n",
    "neuro = load_neuro_data()\n",
    "neuro = neuro.dropna()\n",
    "neuro = neuro[neuro['ElectrodeType'] != \"Sharp\"]"
   ]
  },
  {
   "cell_type": "code",
   "execution_count": 28,
   "metadata": {},
   "outputs": [
    {
     "data": {
      "text/plain": [
       "Neocortex basket cell                                      6\n",
       "Nucleus accumbens medium spiny neuron                      5\n",
       "Hippocampus CA1 pyramidal cell                             5\n",
       "Dentate gyrus granule cell                                 4\n",
       "Ventral tegmental area dopamine neuron                     3\n",
       "Locus coeruleus NA neuron                                  3\n",
       "Inferior colliculus neuron                                 3\n",
       "Neocortex pyramidal cell layer 5-6                         3\n",
       "Hippocampus CA3 pyramidal cell                             3\n",
       "Neocortex pyramidal cell layer 2-3                         3\n",
       "Neocortex layer 4 stellate cell                            3\n",
       "Neocortex Martinotti cell                                  2\n",
       "Neostriatum gabaergic interneuron                          2\n",
       "Neostriatum medium spiny neuron                            2\n",
       "Nucleus of the solitary tract principal cell               2\n",
       "Thalamic reticular nucleus cell                            2\n",
       "Subiculum pyramidal cell                                   2\n",
       "Dentate gyrus basket cell                                  2\n",
       "DRG temperature cell                                       2\n",
       "Thalamus parafascicular nucleus neuron                     2\n",
       "Hypoglossal nucleus motor neuron                           2\n",
       "Suprachiasmatic nucleus neuron                             2\n",
       "Abducens nucleus motor neuron                              1\n",
       "Dentate gyrus hilar cell                                   1\n",
       "Neocortex bipolar neuron                                   1\n",
       "Spinal cord ventral horn interneuron II                    1\n",
       "Dorsal root ganglion cell                                  1\n",
       "Substantia nigra pars compacta dopaminergic cell           1\n",
       "Spinal cord intermediate horn motor neuron sympathetic     1\n",
       "Inferior olive neuron                                      1\n",
       "Spinal cord ventral horn motor neuron alpha                1\n",
       "Olfactory cortex semilunar cell                            1\n",
       "Spinal cord ventral horn interneuron IA                    1\n",
       "Hippocampus CA3 stratum radiatum giant cell                1\n",
       "Medial entorhinal cortex layer II stellate cell            1\n",
       "Spinal cord ventral horn interneuron V2                    1\n",
       "Dorsal motor nucleus of vagus motor neuron                 1\n",
       "Neostriatum TH+ cell                                       1\n",
       "Hippocampus CA1 ivy neuron                                 1\n",
       "Substantia nigra pars reticulata interneuron GABA          1\n",
       "Amygdala basolateral nucleus pyramidal neuron              1\n",
       "Lateral amygdala projection neuron                         1\n",
       "Olfactory cortex pyramidal cell                            1\n",
       "Medial vestibular nucleus neuron                           1\n",
       "Hypothalamus oxytocin neuroendocrine magnocellular cell    1\n",
       "Basalis nucleus cholinergic neuron                         1\n",
       "Paraventricular hypothalamic nucleus neurons               1\n",
       "Globus pallidus principal cell                             1\n",
       "Amygdala corticomedial nucleus pyramidal cell              1\n",
       "Neostriatum cholinergic cell                               1\n",
       "Amygdaloid nucleus paracapsular intercalated cell          1\n",
       "Nucleus ambiguus motor neuron                              1\n",
       "Hippocampus CA1 neurogliaform cell                         1\n",
       "Name: NeuronType, dtype: int64"
      ]
     },
     "execution_count": 28,
     "metadata": {},
     "output_type": "execute_result"
    }
   ],
   "source": [
    "neuro[\"NeuronType\"].value_counts()"
   ]
  },
  {
   "cell_type": "code",
   "execution_count": null,
   "metadata": {},
   "outputs": [],
   "source": []
  }
 ],
 "metadata": {
  "kernelspec": {
   "display_name": "Python 2",
   "language": "python",
   "name": "python2"
  },
  "language_info": {
   "codemirror_mode": {
    "name": "ipython",
    "version": 2
   },
   "file_extension": ".py",
   "mimetype": "text/x-python",
   "name": "python",
   "nbconvert_exporter": "python",
   "pygments_lexer": "ipython2",
   "version": "2.7.15"
  }
 },
 "nbformat": 4,
 "nbformat_minor": 2
}
